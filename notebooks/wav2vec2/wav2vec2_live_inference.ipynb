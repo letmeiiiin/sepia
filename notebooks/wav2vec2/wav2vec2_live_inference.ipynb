{
 "cells": [
  {
   "cell_type": "markdown",
   "metadata": {},
   "source": [
    "#### TODO:\n",
    "- see if model runs on rpi, switch to vosk / deepspeech if too heavy    \n",
    "- try live vosk/deepspeech model   \n",
    "- make model more noise resistant  \n",
    "- live noise reduction  \n",
    "- fine tune with photo dataset  \n",
    "- convert model to onnx ? "
   ]
  },
  {
   "cell_type": "code",
   "execution_count": null,
   "metadata": {},
   "outputs": [],
   "source": [
    "# sudo apt update && sudo apt install portaudio19-dev ffmpeg\n",
    "# Model will auto dl to ~/.cache/huggingface/transformers\n",
    "\n",
    "import sys\n",
    "sys.path.append(\"./libs\")\n",
    "from live_asr import LiveWav2Vec2\n",
    "\n",
    "model = \"jonatasgrosman/wav2vec2-large-xlsr-53-french\"\n",
    "asr = LiveWav2Vec2(model,device_name=\"default\")\n",
    "asr.start()\n",
    "\n",
    "try:\n",
    "    while True:\n",
    "        # asr.get_last_text is blocking\n",
    "        text,sample_length,inference_time = asr.get_last_text()\n",
    "        print(f\"{sample_length:.3f}s\"\n",
    "        +f\"\\t{inference_time:.3f}s\"\n",
    "        +f\"\\t{text}\")\n",
    "        if \"photo\" in text:\n",
    "            print(\"time to take a picture ...\")\n",
    "\n",
    "except KeyboardInterrupt:\n",
    "    asr.stop()"
   ]
  }
 ],
 "metadata": {
  "interpreter": {
   "hash": "2fe2ef27dfc9a1ea6fa0078a0a9e0d59173743487f7e8ebf74da19875e62726c"
  },
  "kernelspec": {
   "display_name": "Python 3.9.7 64-bit ('sepia-3.9.7')",
   "language": "python",
   "name": "python3"
  },
  "language_info": {
   "codemirror_mode": {
    "name": "ipython",
    "version": 3
   },
   "file_extension": ".py",
   "mimetype": "text/x-python",
   "name": "python",
   "nbconvert_exporter": "python",
   "pygments_lexer": "ipython3",
   "version": "3.9.7"
  },
  "orig_nbformat": 4
 },
 "nbformat": 4,
 "nbformat_minor": 2
}
